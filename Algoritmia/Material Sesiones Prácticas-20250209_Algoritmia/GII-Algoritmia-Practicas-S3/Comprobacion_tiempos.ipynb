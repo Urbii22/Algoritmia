{
 "cells": [
  {
   "cell_type": "markdown",
   "metadata": {},
   "source": [
    "## Comprobar tiempos de ejecución en Jupyter Notebook\n",
    "\n",
    "Para ello utilizamos la función mágica `%%timeit` que nos permite medir el tiempo de ejecución de una celda de código.\n",
    "\n",
    "También podemos utilizar la función mágica `%timeit` para medir el tiempo de ejecución de una única línea de código."
   ]
  },
  {
   "cell_type": "code",
   "execution_count": 1,
   "metadata": {},
   "outputs": [],
   "source": [
    "import collections\n",
    "import itertools as it"
   ]
  },
  {
   "cell_type": "markdown",
   "metadata": {},
   "source": [
    "#### Vamos a comprobar la diferencia entre que una función utilice listas donde añadimos y eliminamos elementos por ambos lados, o que utilice un deque."
   ]
  },
  {
   "cell_type": "code",
   "execution_count": 2,
   "metadata": {},
   "outputs": [
    {
     "name": "stdout",
     "output_type": "stream",
     "text": [
      "5.13 ms ± 28.9 µs per loop (mean ± std. dev. of 7 runs, 100 loops each)\n"
     ]
    }
   ],
   "source": [
    "%%timeit\n",
    "def prueba_lista():\n",
    "    lista = []\n",
    "    for i in range(10000):\n",
    "        lista.append(i)\n",
    "    for i in range(10000):\n",
    "        lista.pop(0)\n",
    "prueba_lista()"
   ]
  },
  {
   "cell_type": "code",
   "execution_count": 3,
   "metadata": {},
   "outputs": [
    {
     "name": "stdout",
     "output_type": "stream",
     "text": [
      "579 µs ± 2.87 µs per loop (mean ± std. dev. of 7 runs, 1,000 loops each)\n"
     ]
    }
   ],
   "source": [
    "%%timeit\n",
    "def prueba_deque():\n",
    "    deque = collections.deque()\n",
    "    for i in range(10000):\n",
    "        deque.append(i)\n",
    "    for i in range(10000):\n",
    "        deque.popleft()\n",
    "\n",
    "prueba_deque()"
   ]
  },
  {
   "cell_type": "markdown",
   "metadata": {},
   "source": [
    "### Prueba tus propias implementaciones y compara los tiempos de ejecución."
   ]
  },
  {
   "cell_type": "code",
   "execution_count": null,
   "metadata": {},
   "outputs": [],
   "source": []
  }
 ],
 "metadata": {
  "kernelspec": {
   "display_name": "sslearn",
   "language": "python",
   "name": "python3"
  },
  "language_info": {
   "codemirror_mode": {
    "name": "ipython",
    "version": 3
   },
   "file_extension": ".py",
   "mimetype": "text/x-python",
   "name": "python",
   "nbconvert_exporter": "python",
   "pygments_lexer": "ipython3",
   "version": "3.10.4"
  }
 },
 "nbformat": 4,
 "nbformat_minor": 2
}
